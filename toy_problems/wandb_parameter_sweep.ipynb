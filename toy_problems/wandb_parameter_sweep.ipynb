{
 "cells": [
  {
   "cell_type": "code",
   "id": "initial_id",
   "metadata": {
    "collapsed": true
   },
   "source": [
    "from toy_problems.random_cones import random_cone\n",
    "%load_ext autoreload\n",
    "%autoreload 2"
   ],
   "outputs": [],
   "execution_count": null
  },
  {
   "metadata": {},
   "cell_type": "code",
   "source": [
    "import wandb\n",
    "import numpy as np\n",
    "import jax\n",
    "import jax.numpy as jnp\n",
    "from plotly.subplots import make_subplots\n",
    "import plotly.graph_objects as go\n",
    "\n",
    "# Load Custom Modules\n",
    "from plots import plot_true_function, add_optimization_path\n",
    "from core import optimize_function, initial_point, initial_point_circle\n",
    "from problems import *"
   ],
   "id": "b439d1b750489358",
   "outputs": [],
   "execution_count": null
  },
  {
   "metadata": {},
   "cell_type": "code",
   "source": [
    "# Define the sweep configuration\n",
    "\n",
    "def calc_loss(x, x_opt):\n",
    "    return jnp.linalg.norm(x - x_opt)\n",
    "\n",
    "def main():\n",
    "    wandb.init()\n",
    "    \n",
    "    # Set configuration\n",
    "    fn = get_function_by_name(wandb.config.test_function)\n",
    "    fn_optimizer = wandb.config.optimizer\n",
    "    fn_run_name = wandb.config.optimizer\n",
    "    n_trials = wandb.config.trials_per_run\n",
    "    domain = [-10, 10]\n",
    "    \n",
    "    x_opt = jnp.array([0.0, 0.0])\n",
    "    \n",
    "               \n",
    "    objective_values = []\n",
    "    \n",
    "    init_key = jax.random.PRNGKey(np.random.randint(0, 2**32))\n",
    "    keys = jax.random.split(init_key, n_trials)\n",
    "\n",
    "    for i in range(n_trials):\n",
    "        # Get Random point \n",
    "        pi = initial_point(minval=jnp.array([domain[0], domain[0]]), maxval=jnp.array([domain[1], domain[1]]))\n",
    "        \n",
    "        path = optimize_function(\n",
    "            fn, \n",
    "            pi, \n",
    "            wandb.config.true_params,\n",
    "            [wandb.config.noise_values_pos, wandb.config.noise_values_pos, wandb.config.noise_values_slope], \n",
    "            steps=wandb.config.steps,\n",
    "            learning_rate=wandb.config.learning_rate,\n",
    "            batch_size=wandb.config.batch_size,\n",
    "            method=wandb.config.optimizer,\n",
    "            seed=int(keys[i][0])\n",
    "        )\n",
    "        \n",
    "        # Compute objective\n",
    "        objective = calc_loss(path[-1], x_opt)\n",
    "        objective_values.append(objective)\n",
    "    \n",
    "    # Compute objective value statistics\n",
    "    objective_values = np.array(objective_values)\n",
    "    mean_objective = np.mean(objective_values)\n",
    "    sdev_objective = np.std(objective_values)\n",
    "    \n",
    "    wandb.log({'mean_objective_value': mean_objective, 'sdev_objective_value': sdev_objective, 'init_key': init_key})\n",
    "    \n",
    "    wandb.finish()"
   ],
   "id": "f27cc8c4752959ec",
   "outputs": [],
   "execution_count": null
  },
  {
   "metadata": {},
   "cell_type": "code",
   "source": [
    "sweep_config = {\n",
    "    'method': 'bayes',\n",
    "    'metric': {\n",
    "        'name': 'mean_objective_value',\n",
    "        'goal': 'minimize'\n",
    "    },\n",
    "    'parameters': {\n",
    "        'learning_rate': {\n",
    "            \"min\": 0.001, \n",
    "            \"max\": 1.0\n",
    "        },\n",
    "        'batch_size': {\n",
    "            'values': [1, 3, 5, 10]\n",
    "        },\n",
    "        'steps': {\n",
    "            'value': 10\n",
    "        },\n",
    "        'optimizer': {\n",
    "            'value': 'sgd'\n",
    "        },\n",
    "        'trials_per_run': {\n",
    "            'value': 10\n",
    "        },\n",
    "        'true_params': {'value': [0, 0, 1]},\n",
    "        'test_function': {'value': 'cone'},\n",
    "        'noise_values_pos': {\n",
    "            'values': [0.0, 0.5, 1.0, 2.0, 5.0, 10.0, 20.0, 50.0]\n",
    "        },\n",
    "        'noise_values_slope': {\n",
    "            'values': [0.0, 0.5, 1.0]\n",
    "        }\n",
    "    }\n",
    "}"
   ],
   "id": "2c9b8af81710dd",
   "outputs": [],
   "execution_count": null
  },
  {
   "metadata": {},
   "cell_type": "code",
   "source": "sweep_id = wandb.sweep(sweep=sweep_config, project=f'Test Function Algorithm Hyperparameter Optimization')",
   "id": "1f765dd55a00ab56",
   "outputs": [],
   "execution_count": null
  },
  {
   "metadata": {},
   "cell_type": "code",
   "source": [
    "# Maximum 'count' runs\n",
    "wandb.agent(sweep_id, function=main, count=100)"
   ],
   "id": "ac66bc06a304b0b",
   "outputs": [],
   "execution_count": null
  },
  {
   "metadata": {},
   "cell_type": "code",
   "source": [
    "init_key = jax.random.PRNGKey(np.random.randint(0, 2**32))\n",
    "keys = jax.random.split(init_key, 100)"
   ],
   "id": "4c08663b1a57a741",
   "outputs": [],
   "execution_count": null
  },
  {
   "metadata": {},
   "cell_type": "code",
   "source": "",
   "id": "520b74654a26efaf",
   "outputs": [],
   "execution_count": null
  },
  {
   "metadata": {},
   "cell_type": "code",
   "source": "",
   "id": "bd08e6f278119cba",
   "outputs": [],
   "execution_count": null
  }
 ],
 "metadata": {
  "kernelspec": {
   "display_name": "Python 3",
   "language": "python",
   "name": "python3"
  },
  "language_info": {
   "codemirror_mode": {
    "name": "ipython",
    "version": 2
   },
   "file_extension": ".py",
   "mimetype": "text/x-python",
   "name": "python",
   "nbconvert_exporter": "python",
   "pygments_lexer": "ipython2",
   "version": "2.7.6"
  }
 },
 "nbformat": 4,
 "nbformat_minor": 5
}
